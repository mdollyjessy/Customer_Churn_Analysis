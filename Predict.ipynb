{
 "cells": [
  {
   "cell_type": "code",
   "execution_count": 26,
   "id": "b6273299",
   "metadata": {},
   "outputs": [
    {
     "name": "stdout",
     "output_type": "stream",
     "text": [
      "  Customer_ID  Gender  Age Married           State  Number_of_Referrals  \\\n",
      "0   55556-TAM  Female   45     Yes      Tamil Nadu                   13   \n",
      "1   55568-MAD  Female   49      No  Madhya Pradesh                    0   \n",
      "2   55601-MAD    Male   30     Yes  Madhya Pradesh                    7   \n",
      "3   55609-BIH  Female   36      No           Bihar                   10   \n",
      "4   55615-UTT  Female   45     Yes   Uttar Pradesh                   15   \n",
      "\n",
      "   Tenure_in_Months Value_Deal Phone_Service Multiple_Lines  ...  \\\n",
      "0                30        NaN           Yes            Yes  ...   \n",
      "1                15     Deal 5            No             No  ...   \n",
      "2                11     Deal 4           Yes             No  ...   \n",
      "3                29     Deal 2           Yes             No  ...   \n",
      "4                33        NaN           Yes             No  ...   \n",
      "\n",
      "    Payment_Method Monthly_Charge Total_Charges Total_Refunds  \\\n",
      "0  Bank Withdrawal      25.500000   1821.800049         16.85   \n",
      "1  Bank Withdrawal      35.750000     35.750000          0.00   \n",
      "2  Bank Withdrawal      20.549999    469.850006          0.00   \n",
      "3      Credit Card      20.000000   1209.250000          0.00   \n",
      "4      Credit Card     104.550003   2239.399902          0.00   \n",
      "\n",
      "  Total_Extra_Data_Charges Total_Long_Distance_Charges Total_Revenue  \\\n",
      "0                        0                  667.760010   2472.709961   \n",
      "1                        0                    0.000000     35.750000   \n",
      "2                        0                  967.340027   1437.189941   \n",
      "3                        0                 2954.699951   4163.950195   \n",
      "4                        0                  762.510010   3001.909912   \n",
      "\n",
      "  Customer_Status Churn_Category    Churn_Reason  \n",
      "0          Stayed         Others          Others  \n",
      "1         Churned          Price  Price too high  \n",
      "2          Stayed         Others          Others  \n",
      "3          Stayed         Others          Others  \n",
      "4          Stayed         Others          Others  \n",
      "\n",
      "[5 rows x 32 columns]\n"
     ]
    }
   ],
   "source": [
    "#import Libraries and Load Data\n",
    "import pandas as pd\n",
    "import numpy as np\n",
    "from sklearn.model_selection import train_test_split\n",
    "from sklearn.ensemble import RandomForestClassifier\n",
    "from sklearn.metrics import classification_report, confusion_matrix\n",
    "from sklearn.preprocessing import LabelEncoder\n",
    "import seaborn as sns\n",
    "import matplotlib.pyplot as plt\n",
    "import joblib\n",
    "\n",
    "\n",
    "#Define the path to the data file\n",
    "file_path = r\"C:\\Data_Analyst_Power_BI\\Customer_Churn_Analysis_project\\Data & Resources\\Data\\Prediction_data.xlsx\"\n",
    "\n",
    "#Define the sheet name to read data from\n",
    "sheet_name = \"vw_ChurnData\"\n",
    "\n",
    "#Read the data from the specified sheet into a pandas Dataframe\n",
    "data = pd.read_excel(file_path, sheet_name= sheet_name)\n",
    "\n",
    "#Display the first few rows of the fetched data\n",
    "print(data.head())\n",
    "\n"
   ]
  },
  {
   "cell_type": "code",
   "execution_count": 27,
   "id": "21d75797",
   "metadata": {},
   "outputs": [],
   "source": [
    "#Data Processing\n",
    "#Drop columns that won't be used for prediction\n",
    "data = data.drop(['Customer_ID', 'Churn_Category','Churn_Reason'], axis=1)\n",
    "\n",
    "#List of columns to be encoded\n",
    "\n",
    "columns_to_encode = [\n",
    "    'Gender', 'Married', 'State', 'Value_Deal', 'Phone_Service', 'Multiple_Lines', 'Internet_Service', 'Internet_Type', \n",
    "    'Online_Security','Online_Backup', 'Device_Protection_Plan', 'Premium_Support', 'Streaming_TV', 'Streaming_Movies', 'Streaming_Music',\n",
    "    'Unlimited_Data', 'Contract', 'Paperless_Billing', 'Payment_Method'\n",
    "]\n",
    "\n",
    "#Encode Categorical variables except the target variables\n",
    "label_encoders = {}\n",
    "for column in columns_to_encode:\n",
    "    label_encoders[column] = LabelEncoder()\n",
    "    data[column] = label_encoders[column].fit_transform(data[column])\n",
    "    \n",
    "\n",
    "#Manually encode the target variable 'Customer_Status'\n",
    "data['Customer_Status'] = data['Customer_Status'].map({'Stayed': 0, 'Churned':1})\n",
    "\n",
    "# Separate the two classes\n",
    "churned = data[data['Customer_Status'] == 1]\n",
    "stayed = data[data['Customer_Status'] == 0]\n",
    "\n",
    "# Oversample churned to match stayed\n",
    "churned_oversampled = churned.sample(len(stayed), replace=True, random_state=42)\n",
    "\n",
    "# Combine the oversampled churned with stayed\n",
    "balanced_data = pd.concat([stayed, churned_oversampled])\n",
    "\n",
    "# Shuffle the data\n",
    "balanced_data = balanced_data.sample(frac=1, random_state=42).reset_index(drop=True)\n",
    "\n",
    "# Split features and target\n",
    "X = balanced_data.drop('Customer_Status', axis=1)\n",
    "y = balanced_data['Customer_Status']\n"
   ]
  },
  {
   "cell_type": "code",
   "execution_count": 28,
   "id": "c4695a40-3707-4b84-aeb3-fbfc48cbd066",
   "metadata": {},
   "outputs": [],
   "source": [
    "# Split data into training and testing sets\n",
    "X_train, X_test, y_train, y_test = train_test_split(X, y, test_size=0.2, random_state=42)\n"
   ]
  },
  {
   "cell_type": "code",
   "execution_count": 29,
   "id": "97873235-6483-4097-85d0-fc07fffc80a2",
   "metadata": {},
   "outputs": [
    {
     "name": "stderr",
     "output_type": "stream",
     "text": [
      "C:\\Users\\user\\anaconda3\\Lib\\site-packages\\xgboost\\training.py:183: UserWarning: [20:54:52] WARNING: C:\\actions-runner\\_work\\xgboost\\xgboost\\src\\learner.cc:738: \n",
      "Parameters: { \"use_label_encoder\" } are not used.\n",
      "\n",
      "  bst.update(dtrain, iteration=i, fobj=obj)\n"
     ]
    },
    {
     "name": "stdout",
     "output_type": "stream",
     "text": [
      "Confusion Matrix:\n",
      "[[777  91]\n",
      " [ 47 795]]\n",
      "\n",
      "Classification Report:\n",
      "              precision    recall  f1-score   support\n",
      "\n",
      "           0       0.94      0.90      0.92       868\n",
      "           1       0.90      0.94      0.92       842\n",
      "\n",
      "    accuracy                           0.92      1710\n",
      "   macro avg       0.92      0.92      0.92      1710\n",
      "weighted avg       0.92      0.92      0.92      1710\n",
      "\n"
     ]
    }
   ],
   "source": [
    "from xgboost import XGBClassifier\n",
    "# Calculate class imbalance ratio\n",
    "scale_pos_weight = y_train.value_counts()[0] / y_train.value_counts()[1]\n",
    "\n",
    "# Initialize and train XGBoost model\n",
    "xgb_model = XGBClassifier(scale_pos_weight=scale_pos_weight,\n",
    "                          use_label_encoder=False,\n",
    "                          eval_metric='logloss',\n",
    "                          random_state=42)\n",
    "\n",
    "xgb_model.fit(X_train, y_train)\n",
    "\n",
    "# Predict\n",
    "y_pred_xgb = xgb_model.predict(X_test)\n",
    "\n",
    "# Evaluation\n",
    "print(\"Confusion Matrix:\")\n",
    "print(confusion_matrix(y_test, y_pred_xgb))\n",
    "print(\"\\nClassification Report:\")\n",
    "print(classification_report(y_test, y_pred_xgb))"
   ]
  },
  {
   "cell_type": "code",
   "execution_count": 30,
   "id": "0399f214-9afa-449b-9c96-f01a4d80adc4",
   "metadata": {},
   "outputs": [
    {
     "name": "stdout",
     "output_type": "stream",
     "text": [
      "Best parameters: {'learning_rate': 0.2, 'max_depth': 7, 'n_estimators': 100, 'scale_pos_weight': np.float64(0.9924264491698224)}\n"
     ]
    }
   ],
   "source": [
    "from sklearn.model_selection import GridSearchCV\n",
    "\n",
    "params = {\n",
    "    'max_depth': [3, 5, 7],\n",
    "    'learning_rate': [0.01, 0.1, 0.2],\n",
    "    'n_estimators': [100, 200],\n",
    "    'scale_pos_weight': [scale_pos_weight]\n",
    "}\n",
    "\n",
    "grid = GridSearchCV(XGBClassifier(eval_metric='logloss', random_state=42), params, scoring='recall', cv=3)\n",
    "grid.fit(X_train, y_train)\n",
    "\n",
    "print(\"Best parameters:\", grid.best_params_)"
   ]
  },
  {
   "cell_type": "code",
   "execution_count": 31,
   "id": "cebf7387-3da0-4808-b74e-d23f24c41317",
   "metadata": {},
   "outputs": [],
   "source": [
    "best_xgb = XGBClassifier(\n",
    "    learning_rate=0.2,\n",
    "    max_depth=7,\n",
    "    n_estimators=100,\n",
    "    scale_pos_weight=0.9924264491698224,\n",
    "    eval_metric='logloss',\n",
    "    random_state=42\n",
    ")\n",
    "\n",
    "best_xgb.fit(X_train, y_train)\n",
    "\n",
    "# Predict on test set\n",
    "y_pred_best = best_xgb.predict(X_test)"
   ]
  },
  {
   "cell_type": "code",
   "execution_count": 32,
   "id": "3a333eac-ccd3-4025-9827-b306d458c14d",
   "metadata": {},
   "outputs": [
    {
     "name": "stdout",
     "output_type": "stream",
     "text": [
      "Confusion Matrix:\n",
      "[[783  85]\n",
      " [ 45 797]]\n",
      "\n",
      "Classification Report:\n",
      "              precision    recall  f1-score   support\n",
      "\n",
      "           0       0.95      0.90      0.92       868\n",
      "           1       0.90      0.95      0.92       842\n",
      "\n",
      "    accuracy                           0.92      1710\n",
      "   macro avg       0.92      0.92      0.92      1710\n",
      "weighted avg       0.92      0.92      0.92      1710\n",
      "\n"
     ]
    }
   ],
   "source": [
    "# Evaluate performance\n",
    "print(\"Confusion Matrix:\")\n",
    "print(confusion_matrix(y_test, y_pred_best))\n",
    "print(\"\\nClassification Report:\")\n",
    "print(classification_report(y_test, y_pred_best))"
   ]
  },
  {
   "cell_type": "code",
   "execution_count": 33,
   "id": "50eb6101-f377-4947-a1a9-59e5085150c5",
   "metadata": {},
   "outputs": [
    {
     "name": "stdout",
     "output_type": "stream",
     "text": [
      "  Customer_ID  Gender  Age Married           State  Number_of_Referrals  \\\n",
      "0   57457-MAD  Female   46      No  Madhya Pradesh                   14   \n",
      "1   58577-ODI  Female   44     Yes          Odisha                    7   \n",
      "2   61025-MAH  Female   45      No     Maharashtra                    4   \n",
      "3   61331-UTT    Male   36     Yes     Uttarakhand                    2   \n",
      "4   61474-TEL    Male   52     Yes       Telangana                   11   \n",
      "\n",
      "   Tenure_in_Months Value_Deal Phone_Service Multiple_Lines  ...  \\\n",
      "0                34        NaN           Yes             No  ...   \n",
      "1                36     Deal 5           Yes             No  ...   \n",
      "2                16     Deal 5           Yes             No  ...   \n",
      "3                10     Deal 5           Yes             No  ...   \n",
      "4                17        NaN           Yes             No  ...   \n",
      "\n",
      "    Payment_Method Monthly_Charge Total_Charges Total_Refunds  \\\n",
      "0     Mailed Check      20.000000     38.000000           0.0   \n",
      "1      Credit Card      45.849998    105.599998           0.0   \n",
      "2  Bank Withdrawal      49.849998     49.849998           0.0   \n",
      "3      Credit Card      50.750000     50.750000           0.0   \n",
      "4      Credit Card      20.350000     20.350000           0.0   \n",
      "\n",
      "  Total_Extra_Data_Charges Total_Long_Distance_Charges Total_Revenue  \\\n",
      "0                        0                   68.760002    106.760002   \n",
      "1                        0                   10.940000    116.540001   \n",
      "2                        0                   42.549999     92.400002   \n",
      "3                        0                   45.770000     96.519997   \n",
      "4                        0                   31.969999     52.320000   \n",
      "\n",
      "  Customer_Status Churn_Category Churn_Reason  \n",
      "0          Joined         Others       Others  \n",
      "1          Joined         Others       Others  \n",
      "2          Joined         Others       Others  \n",
      "3          Joined         Others       Others  \n",
      "4          Joined         Others       Others  \n",
      "\n",
      "[5 rows x 32 columns]\n"
     ]
    }
   ],
   "source": [
    "# Define the path to the Joiner Data Excel file\n",
    "file_path = r\"C:\\Data_Analyst_Power_BI\\Customer_Churn_Analysis_project\\Data & Resources\\Data\\Prediction_data.xlsx\"\n",
    "sheet_name = 'vw_JoinData'\n",
    "\n",
    "# Read the new data from the Excel sheet\n",
    "new_data = pd.read_excel(file_path, sheet_name=sheet_name)\n",
    "\n",
    "# Display the first few rows of the fetched data\n",
    "print(new_data.head())\n",
    "\n",
    "# Retain the original DataFrame to preserve unencoded columns\n",
    "original_data = new_data.copy()\n",
    "\n",
    "# Retain the Customer_ID column for tracking\n",
    "customer_ids = new_data['Customer_ID']\n",
    "\n",
    "# Drop columns not used for prediction\n",
    "new_data = new_data.drop(['Customer_ID', 'Customer_Status', 'Churn_Category', 'Churn_Reason'], axis=1)\n",
    "\n",
    "# Encode categorical variables using the saved label encoders\n",
    "for column in new_data.select_dtypes(include=['object']).columns:\n",
    "    new_data[column] = label_encoders[column].transform(new_data[column])\n",
    "\n",
    "# Use the tuned XGBoost model instead of Random Forest\n",
    "new_predictions = best_xgb.predict(new_data)\n",
    "\n",
    "# Add predictions to the original DataFrame\n",
    "original_data['Customer_Status_Predicted'] = new_predictions\n",
    "\n",
    "# Filter the DataFrame to include only customers predicted as \"Churned\"\n",
    "original_data = original_data[original_data['Customer_Status_Predicted'] == 1]\n",
    "\n",
    "# Save the results to a CSV file\n",
    "original_data.to_csv(r\"C:\\Data_Analyst_Power_BI\\Customer_Churn_Analysis_project\\Data & Resources\\Data\\Prediction.csv\", index=False)\n"
   ]
  },
  {
   "cell_type": "code",
   "execution_count": 34,
   "id": "80045609-e6f3-447e-b84e-22ff5cb40f65",
   "metadata": {},
   "outputs": [],
   "source": [
    "# Load and preserve full joiner data\n",
    "file_path = r\"C:\\Data_Analyst_Power_BI\\Customer_Churn_Analysis_project\\Data & Resources\\Data\\Prediction_data.xlsx\"\n",
    "sheet_name = 'vw_JoinData'\n",
    "original_data = pd.read_excel(file_path, sheet_name=sheet_name)\n",
    "\n",
    "# Copy to avoid modifying original\n",
    "new_data = original_data.copy()"
   ]
  },
  {
   "cell_type": "code",
   "execution_count": 35,
   "id": "7e51bcdd-7fa7-4584-a9da-8c6698b5d05d",
   "metadata": {},
   "outputs": [],
   "source": [
    "# Drop columns not needed for prediction\n",
    "new_data = new_data.drop(['Customer_Status', 'Churn_Category', 'Churn_Reason', 'Customer_ID'], axis=1, errors='ignore')\n"
   ]
  },
  {
   "cell_type": "code",
   "execution_count": 36,
   "id": "0669bcd5-4679-4c4f-a860-0bab3e158a90",
   "metadata": {},
   "outputs": [],
   "source": [
    "# Encode with saved label encoders\n",
    "for column in new_data.select_dtypes(include='object').columns:\n",
    "    if column in label_encoders:\n",
    "        new_data[column] = label_encoders[column].transform(new_data[column])\n"
   ]
  },
  {
   "cell_type": "code",
   "execution_count": 37,
   "id": "dd9c2bad-a52d-44ec-8c0a-49e775963bce",
   "metadata": {},
   "outputs": [],
   "source": [
    "# Predict churn probability\n",
    "y_proba = best_xgb.predict_proba(new_data)[:, 1]  # 411 values expected\n"
   ]
  },
  {
   "cell_type": "code",
   "execution_count": 38,
   "id": "c6edcbe7-ae5a-4f95-840a-ad96acd24a11",
   "metadata": {},
   "outputs": [],
   "source": [
    "# Do not filter original_data; keep all 411 rows\n",
    "result_df = original_data.copy()\n",
    "result_df['Churn_Probability'] = y_proba\n",
    "result_df['Customer_Status_Predicted'] = (y_proba > 0.75).astype(int)\n"
   ]
  },
  {
   "cell_type": "code",
   "execution_count": 39,
   "id": "404b116c-2c9f-4283-bc6b-ecc16d7b4efc",
   "metadata": {},
   "outputs": [],
   "source": [
    "# 4. Save to file\n",
    "result_df.to_csv(\"C:\\Data_Analyst_Power_BI\\Customer_Churn_Analysis_project\\Data & Resources\\Data\\Customer_Churn_Predictions.csv\", index=False)"
   ]
  },
  {
   "cell_type": "code",
   "execution_count": 40,
   "id": "eb9a5992-da18-4abb-a6ee-bb0d858e4288",
   "metadata": {},
   "outputs": [
    {
     "name": "stdout",
     "output_type": "stream",
     "text": [
      "411 411\n"
     ]
    }
   ],
   "source": [
    "print(len(result_df), len(y_proba))  # Both must be 411"
   ]
  },
  {
   "cell_type": "code",
   "execution_count": 41,
   "id": "9f8735b5-34b8-4bd2-a036-a083a4def816",
   "metadata": {},
   "outputs": [
    {
     "name": "stdout",
     "output_type": "stream",
     "text": [
      "Customer_Status_Predicted\n",
      "1    364\n",
      "0     47\n",
      "Name: count, dtype: int64\n"
     ]
    }
   ],
   "source": [
    "print(result_df['Customer_Status_Predicted'].value_counts())\n"
   ]
  },
  {
   "cell_type": "code",
   "execution_count": 42,
   "id": "4e15290e-f5f6-4808-b37b-cfe4c341403e",
   "metadata": {},
   "outputs": [
    {
     "name": "stdout",
     "output_type": "stream",
     "text": [
      "Threshold 0.6: Predicted churners = 369\n",
      "Threshold 0.7: Predicted churners = 365\n",
      "Threshold 0.75: Predicted churners = 364\n",
      "Threshold 0.8: Predicted churners = 362\n"
     ]
    }
   ],
   "source": [
    "thresholds = [0.6, 0.7, 0.75, 0.8]\n",
    "for t in thresholds:\n",
    "    churn_count = (result_df['Churn_Probability'] > t).sum()\n",
    "    print(f\"Threshold {t}: Predicted churners = {churn_count}\")"
   ]
  },
  {
   "cell_type": "code",
   "execution_count": 43,
   "id": "01826201-9b72-4048-bde5-9ae32af1f6b2",
   "metadata": {},
   "outputs": [
    {
     "data": {
      "image/png": "[encoded data removed]",
      "text/plain": [
       "<Figure size 640x480 with 1 Axes>"
      ]
     },
     "metadata": {},
     "output_type": "display_data"
    }
   ],
   "source": [
    "\n",
    "sns.histplot(result_df['Churn_Probability'], bins=25, kde=True, color='orange')\n",
    "plt.axvline(0.75, color='red', linestyle='--', label='Threshold (0.75)')\n",
    "plt.title(\"Distribution of Churn Probabilities\")\n",
    "plt.xlabel(\"Churn Probability\")\n",
    "plt.ylabel(\"Number of Customers\")\n",
    "plt.legend()\n",
    "plt.show()\n"
   ]
  },
  {
   "cell_type": "code",
   "execution_count": 44,
   "id": "ce16ede5-681d-402e-8aec-7b813012f537",
   "metadata": {},
   "outputs": [
    {
     "name": "stdout",
     "output_type": "stream",
     "text": [
      "Risk_Level\n",
      "High Risk      351\n",
      "Low Risk        47\n",
      "Medium Risk     13\n",
      "Name: count, dtype: int64\n"
     ]
    }
   ],
   "source": [
    "def risk_level(prob):\n",
    "    if prob >= 0.9:\n",
    "        return 'High Risk'\n",
    "    elif prob >= 0.75:\n",
    "        return 'Medium Risk'\n",
    "    else:\n",
    "        return 'Low Risk'\n",
    "\n",
    "result_df['Risk_Level'] = result_df['Churn_Probability'].apply(risk_level)\n",
    "print(result_df['Risk_Level'].value_counts())\n"
   ]
  },
  {
   "cell_type": "code",
   "execution_count": 45,
   "id": "6d11102e-01d3-4fe6-ad8e-710b29e593b1",
   "metadata": {},
   "outputs": [],
   "source": [
    "result_df.to_csv(r\"C:\\Data_Analyst_Power_BI\\Customer_Churn_Analysis_project\\Data & Resources\\Data\\Joiners_Churn_Risk_Segmented1.csv\", index=False)"
   ]
  },
  {
   "cell_type": "code",
   "execution_count": 46,
   "id": "0cfcd054-af05-4a11-8fa4-f3467ececd8a",
   "metadata": {},
   "outputs": [],
   "source": [
    "# Save the results to a CSV file\n",
    "original_data.to_csv(r\"C:\\Data_Analyst_Power_BI\\Customer_Churn_Analysis_project\\Data & Resources\\Data\\Prediction.csv\", index=False)\n"
   ]
  },
  {
   "cell_type": "code",
   "execution_count": 47,
   "id": "e2e934f5-2ad6-4be8-9dea-a998d5824821",
   "metadata": {},
   "outputs": [],
   "source": [
    "# Step 1: Predict churn probability\n",
    "y_proba1 = best_xgb.predict_proba(new_data)[:, 1]\n",
    "\n",
    "# Step 2: Attach to original data\n",
    "result_df = original_data.copy()\n",
    "result_df['Churn_Probability'] = y_proba1\n",
    "result_df['Customer_Status_Predicted'] = (y_proba1 > 0.75).astype(int)\n",
    "\n",
    "# Step 3: Filter only predicted churners\n",
    "churners_df = result_df[result_df['Customer_Status_Predicted'] == 1]\n",
    "\n",
    "# Step 4: Save to CSV or Excel\n",
    "churners_df.to_csv(\"C:\\Data_Analyst_Power_BI\\Customer_Churn_Analysis_project\\Data & Resources\\Data\\Predicted_Churners.csv\", index=False)  # or .to_excel(...)"
   ]
  },
  {
   "cell_type": "code",
   "execution_count": null,
   "id": "eb0423ca-1cc9-4c56-a395-a5dde131637d",
   "metadata": {},
   "outputs": [],
   "source": []
  }
 ],
 "metadata": {
  "kernelspec": {
   "display_name": "Python 3 (ipykernel)",
   "language": "python",
   "name": "python3"
  },
  "language_info": {
   "codemirror_mode": {
    "name": "ipython",
    "version": 3
   },
   "file_extension": ".py",
   "mimetype": "text/x-python",
   "name": "python",
   "nbconvert_exporter": "python",
   "pygments_lexer": "ipython3",
   "version": "3.11.5"
  }
 },
 "nbformat": 4,
 "nbformat_minor": 5
}
